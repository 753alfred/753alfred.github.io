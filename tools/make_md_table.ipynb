{
 "cells": [
  {
   "cell_type": "raw",
   "metadata": {},
   "source": [
    "def convert_to_markdown_table(text):\n",
    "    rows = text.strip().split('\\n')\n",
    "    header = rows[0].split()\n",
    "    rows = [row.split() for row in rows[1:]]\n",
    "    \n",
    "    table = '| ' + ' | '.join(header) + ' |\\n' + '|' + '|'.join(['---' for _ in header]) + '|\\n'\n",
    "    for row in rows:\n",
    "        table += '| ' + ' | '.join(row) + ' |\\n'\n",
    "    \n",
    "    return table"
   ]
  },
  {
   "cell_type": "code",
   "execution_count": 3,
   "metadata": {},
   "outputs": [],
   "source": [
    "def convert_to_markdown_table(text):\n",
    "    rows = text.strip().split('\\n')\n",
    "    \n",
    "    table_header = rows[0].split()\n",
    "    table = '| ' + ' | '.join(table_header) + ' |\\n' + '|' + '|'.join(['---' for _ in table_header]) + '|\\n'\n",
    "    \n",
    "    table_body = []\n",
    "    for row in rows[1:]:\n",
    "        row_values = []\n",
    "        value_str = ''\n",
    "        flag = False\n",
    "        \n",
    "        for value in row.split():\n",
    "            value_str += str(f' {value}')\n",
    "            if flag:\n",
    "                if value.endswith(']'):\n",
    "                    flag = False\n",
    "                else:\n",
    "                    continue\n",
    "            if value.startswith('['):\n",
    "                flag = True\n",
    "                continue\n",
    "            \n",
    "            # print(f'\\t{value_str}')\n",
    "            \n",
    "            row_values.append(value_str)\n",
    "            value_str = ''\n",
    "\n",
    "        table_body.append(row_values)\n",
    "    \n",
    "    for row in table_body:\n",
    "        table += '| ' + ' | '.join(row) + ' |\\n'\n",
    "    \n",
    "    return table"
   ]
  },
  {
   "cell_type": "code",
   "execution_count": 4,
   "metadata": {},
   "outputs": [],
   "source": [
    "input_text = \"\"\"players \tcallings \tresult\n",
    "[\"mumu\", \"soe\", \"poe\", \"kai\", \"mine\"] \t[\"kai\", \"kai\", \"mine\", \"mine\"] \t[\"mumu\", \"kai\", \"mine\", \"soe\", \"poe\"]\n",
    "\"\"\""
   ]
  },
  {
   "cell_type": "code",
   "execution_count": 5,
   "metadata": {},
   "outputs": [
    {
     "name": "stdout",
     "output_type": "stream",
     "text": [
      "| players | callings | result |\n",
      "|---|---|---|\n",
      "|  [\"mumu\", \"soe\", \"poe\", \"kai\", \"mine\"] |  [\"kai\", \"kai\", \"mine\", \"mine\"] |  [\"mumu\", \"kai\", \"mine\", \"soe\", \"poe\"] |\n",
      "\n"
     ]
    }
   ],
   "source": [
    "print(convert_to_markdown_table(input_text))"
   ]
  },
  {
   "cell_type": "code",
   "execution_count": null,
   "metadata": {},
   "outputs": [],
   "source": []
  }
 ],
 "metadata": {
  "kernelspec": {
   "display_name": "Python 3",
   "language": "python",
   "name": "python3"
  },
  "language_info": {
   "codemirror_mode": {
    "name": "ipython",
    "version": 3
   },
   "file_extension": ".py",
   "mimetype": "text/x-python",
   "name": "python",
   "nbconvert_exporter": "python",
   "pygments_lexer": "ipython3",
   "version": "3.6.5"
  }
 },
 "nbformat": 4,
 "nbformat_minor": 2
}
